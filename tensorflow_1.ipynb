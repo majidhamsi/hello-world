{
  "nbformat": 4,
  "nbformat_minor": 0,
  "metadata": {
    "colab": {
      "name": "Untitled0.ipynb",
      "version": "0.3.2",
      "provenance": [],
      "include_colab_link": true
    },
    "kernelspec": {
      "name": "python3",
      "display_name": "Python 3"
    }
  },
  "cells": [
    {
      "cell_type": "markdown",
      "metadata": {
        "id": "view-in-github",
        "colab_type": "text"
      },
      "source": [
        "<a href=\"https://colab.research.google.com/github/majidhamsi/hello-world/blob/master/tensorflow_1.ipynb\" target=\"_parent\"><img src=\"https://colab.research.google.com/assets/colab-badge.svg\" alt=\"Open In Colab\"/></a>"
      ]
    },
    {
      "cell_type": "code",
      "metadata": {
        "id": "8cTDKcdDYwbG",
        "colab_type": "code",
        "colab": {
          "base_uri": "https://localhost:8080/",
          "height": 52
        },
        "outputId": "7a4299b7-7442-4ae0-8416-7ccd6bfeea89"
      },
      "source": [
        "import tensorflow as tf\n",
        "tf.enable_eager_execution()\n",
        "import numpy as np\n",
        "\n",
        "def dense_layer(x, n_in, n_out):\n",
        "  W = tf.Variable(tf.ones((n_in,n_out)))\n",
        "  b = tf.Variable(tf.zeros((1, n_out)))\n",
        "  \n",
        "  \n",
        "  z = tf.matmul(x, W)+b\n",
        "  \n",
        "  out = tf.sigmoid(z)\n",
        "  return out\n",
        "\n",
        "x_input = tf.constant([1,2.], shape=(1,2))\n",
        "print(x_input)\n",
        "print(dense_layer(x_input, n_in=2, n_out=3))"
      ],
      "execution_count": 5,
      "outputs": [
        {
          "output_type": "stream",
          "text": [
            "tf.Tensor([[1. 2.]], shape=(1, 2), dtype=float32)\n",
            "tf.Tensor([[0.95257413 0.95257413 0.95257413]], shape=(1, 3), dtype=float32)\n"
          ],
          "name": "stdout"
        }
      ]
    }
  ]
}